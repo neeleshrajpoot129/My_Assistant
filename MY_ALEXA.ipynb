{
 "cells": [
  {
   "cell_type": "code",
   "execution_count": 12,
   "metadata": {},
   "outputs": [],
   "source": [
    "import pyttsx3\n",
    "import webbrowser\n",
    "import smtplib\n",
    "import random\n",
    "import speech_recognition as sr\n",
    "import wikipedia\n",
    "import datetime\n",
    "import wolframalpha\n",
    "import os\n",
    "import sys\n",
    "import pygame\n",
    "from datetime import date"
   ]
  },
  {
   "cell_type": "code",
   "execution_count": 13,
   "metadata": {},
   "outputs": [],
   "source": [
    "pygame.mixer.init()#intialising the pygame mixer "
   ]
  },
  {
   "cell_type": "markdown",
   "metadata": {},
   "source": [
    "# Example to Play audio file without using external player"
   ]
  },
  {
   "cell_type": "code",
   "execution_count": 14,
   "metadata": {},
   "outputs": [],
   "source": [
    "from gtts import gTTS"
   ]
  },
  {
   "cell_type": "code",
   "execution_count": 23,
   "metadata": {},
   "outputs": [],
   "source": [
    "pts=gTTS(\"Hello My name is Alexa , What do you want me to do\",lang=\"en\")\n",
    "pts.save(\"Alexa.mp3\")\n",
    "pygame.mixer.init()\n",
    "pygame.mixer.music.load(\"Alexa.mp3\")\n",
    "pygame.mixer.music.play()\n"
   ]
  },
  {
   "cell_type": "code",
   "execution_count": 15,
   "metadata": {},
   "outputs": [],
   "source": [
    "#Creting Your Own Customized mp3 as per the use\n",
    "tts = gTTS('Good Morning', lang='en')\n",
    "tts.save('Morning.mp3')\n",
    "pts=gTTS(\"Good Afternoon\",lang=\"en\")\n",
    "pts.save(\"Afternoon.mp3\")\n",
    "sts=gTTS(\"Good Evening\",lang='en')\n",
    "sts.save(\"Evening.mp3\")"
   ]
  },
  {
   "cell_type": "code",
   "execution_count": 16,
   "metadata": {},
   "outputs": [],
   "source": [
    "client = wolframalpha.Client('Your_App_ID')"
   ]
  },
  {
   "cell_type": "code",
   "execution_count": 17,
   "metadata": {},
   "outputs": [],
   "source": [
    "#defining the functions\n",
    "def speak(audio):\n",
    "    #print('Computer: ' + audio)\n",
    "    pygame.mixer.music.load(\"Alexa.mp3\")\n",
    "    pygame.mixer.music.play()\n",
    "def greetMe():\n",
    "    currentH = int(datetime.datetime.now().hour)\n",
    "    if currentH >= 0 and currentH < 12:\n",
    "        pygame.mixer.music.load(\"Morning.mp3\")\n",
    "        pygame.mixer.music.play()\n",
    "\n",
    "    if currentH >= 12 and currentH < 18:\n",
    "        pygame.mixer.music.load(\"Afternoon.mp3\")\n",
    "        pygame.mixer.music.play()\n",
    "        \n",
    "    if currentH >= 18 and currentH !=0:\n",
    "        pygame.mixer.music.load(\"Evening.mp3\")\n",
    "        pygame.mixer.music.play()\n",
    "def myCommand():                                                          \n",
    "        #print(\"Welcome How may I help you\")\n",
    "        query = input()\n",
    "        print('User: ' + query + '\\n')\n",
    "        return query\n",
    "        "
   ]
  },
  {
   "cell_type": "code",
   "execution_count": 18,
   "metadata": {},
   "outputs": [],
   "source": [
    "greetMe()"
   ]
  },
  {
   "cell_type": "code",
   "execution_count": 30,
   "metadata": {},
   "outputs": [],
   "source": [
    "pygame.mixer.music.load(\"ENERGY.mp3\")\n",
    "pygame.mixer.music.play()"
   ]
  },
  {
   "cell_type": "code",
   "execution_count": 28,
   "metadata": {},
   "outputs": [],
   "source": [
    "k=gTTS(\"Just doing my thing!\",lang='en')\n",
    "k.save(\"THING.mp3\")\n",
    "k=gTTS('I am fine!',lang='en')\n",
    "k.save(\"FINE.mp3\")\n",
    "k=gTTS('Nice!',lang='en')\n",
    "k.save(\"NICE.mp3\")\n",
    "k=gTTS('I am nice and full of energy',lang='en')\n",
    "k.save(\"ENERGY.mp3\")"
   ]
  },
  {
   "cell_type": "code",
   "execution_count": 20,
   "metadata": {},
   "outputs": [],
   "source": [
    "\n",
    "def speak():\n",
    "    #print('Computer: ' + audio)\n",
    "    pygame.mixer.music.load(\"Alexa.mp3\")\n",
    "    pygame.mixer.music.play()\n",
    "def greetMe():\n",
    "    currentH = int(datetime.datetime.now().hour)\n",
    "    if currentH >= 0 and currentH < 12:\n",
    "        pygame.mixer.music.load(\"Morning.mp3\")\n",
    "        pygame.mixer.music.play()\n",
    "\n",
    "    if currentH >= 12 and currentH < 18:\n",
    "        pygame.mixer.music.load(\"Afternoon.mp3\")\n",
    "        pygame.mixer.music.play()\n",
    "        \n",
    "    if currentH >= 18 and currentH !=0:\n",
    "        pygame.mixer.music.load(\"Evening.mp3\")\n",
    "        pygame.mixer.music.play()\n",
    "def myCommand():                                                          \n",
    "        #print(\"Welcome How may I help you\")\n",
    "        query = input()\n",
    "        print('User: ' + query + '\\n')\n",
    "        return query\n",
    "        "
   ]
  },
  {
   "cell_type": "code",
   "execution_count": 24,
   "metadata": {},
   "outputs": [],
   "source": [
    "greetMe()"
   ]
  },
  {
   "cell_type": "code",
   "execution_count": 31,
   "metadata": {},
   "outputs": [
    {
     "name": "stdout",
     "output_type": "stream",
     "text": [
      "what can you do\n",
      "User: what can you do\n",
      "\n",
      "I am Your Virtual Assistant I can Play Music\n",
      "I can tell you about weather\n",
      "I can tell you what time it is\n",
      "I can send emails\n",
      "Need More Help?\n",
      "play music\n",
      "User: play music\n",
      "\n",
      "Opening Music In YouTube Music\n",
      "Need More Help?\n",
      "date\n",
      "User: date\n",
      "\n",
      "2020-06-01\n",
      "Need More Help?\n",
      "weather\n",
      "User: weather\n",
      "\n",
      "Need More Help?\n",
      "email\n",
      "User: email\n",
      "\n",
      "Who is the recipient?\n",
      "me\n",
      "User: me\n",
      "\n",
      "What should I say?\n",
      "hi\n",
      "User: hi\n",
      "\n",
      "I am sorry Sir \n",
      "Need More Help?\n",
      "stop\n",
      "User: stop\n",
      "\n",
      "Bye Sir\n"
     ]
    },
    {
     "ename": "SystemExit",
     "evalue": "",
     "output_type": "error",
     "traceback": [
      "An exception has occurred, use %tb to see the full traceback.\n",
      "\u001b[0;31mSystemExit\u001b[0m\n"
     ]
    },
    {
     "name": "stderr",
     "output_type": "stream",
     "text": [
      "/home/neelesh/anaconda3/lib/python3.7/site-packages/IPython/core/interactiveshell.py:3304: UserWarning: To exit: use 'exit', 'quit', or Ctrl-D.\n",
      "  warn(\"To exit: use 'exit', 'quit', or Ctrl-D.\", stacklevel=1)\n"
     ]
    }
   ],
   "source": [
    "\n",
    "speak()\n",
    "if __name__ == '__main__':\n",
    "\n",
    "    while (True):\n",
    "    \n",
    "        query = myCommand();\n",
    "        query = query.lower()\n",
    "        \n",
    "        if 'open youtube' in query:\n",
    "            #speak('okay')\n",
    "            pygame.mixer.music.load(\"OKAY.mp3\")\n",
    "            pygame.mixer.music.play()\n",
    "            webbrowser.open('www.youtube.com')\n",
    "        elif 'what can you do'in query:\n",
    "            print(\"I am Your Virtual Assistant I can Play Music\")\n",
    "            print(\"I can tell you about weather\")\n",
    "            print(\"I can tell you what time it is\")\n",
    "            print(\"I can send emails\")\n",
    "            \n",
    "        elif 'who are you' in query:\n",
    "            print(\"I am Alexa\")\n",
    "        \n",
    "        elif 'weather'in query:\n",
    "            pygame.mixer.music.load(\"OKAY.mp3\")\n",
    "            pygame.mixer.music.play()\n",
    "            webbrowser.open(\"https://www.google.com/search?q=todays+weather&oq=toda&aqs=chrome.1.69i57j35i39j0l4.4816j1j4&sourceid=chrome&ie=UTF-8\")\n",
    "        elif ('date' in query):\n",
    "            pygame.mixer.music.load(\"OKAY.mp3\")\n",
    "            pygame.mixer.music.play()\n",
    "            today = date.today()\n",
    "            print(today)\n",
    "            \n",
    "\n",
    "        elif 'open google' in query:\n",
    "            #speak('okay')\n",
    "            #print(\"Okay\")\n",
    "            pygame.mixer.music.load(\"OKAY.mp3\")\n",
    "            pygame.mixer.music.play()\n",
    "            webbrowser.open('www.google.co.in')\n",
    "\n",
    "        elif 'open gmail' in query:\n",
    "            #speak('okay')\n",
    "            #print(\"Okay\")\n",
    "            pygame.mixer.music.load(\"OKAY.mp3\")\n",
    "            pygame.mixer.music.play()\n",
    "            webbrowser.open('www.gmail.com')\n",
    "\n",
    "            \n",
    "\n",
    "        elif \"what\\'s up\" in query or 'how are you' in query:\n",
    "            #stMsgs = ['Just doing my thing!', 'I am fine!', 'Nice!', 'I am nice and full of energy']\n",
    "            #speak(random.choice(stMsgs))\n",
    "            pygame.mixer.music.load(random.choice([\"THING.mp3\",\"FINE.mp3\",\"NICE.mp3\",\"ENERGY,mp3\"]))\n",
    "            pygame.mixer.music.play()\n",
    "            \n",
    "            \n",
    "\n",
    "        elif 'email'  in query or 'gmail' in query:\n",
    "            #speak('Who is the recipient? ')\n",
    "            print(\"Who is the recipient?\")\n",
    "            recipient = myCommand()\n",
    "            if 'me' in recipient:\n",
    "                try:\n",
    "                    #speak('What should I say? ')\n",
    "                    print(\"What should I say?\")\n",
    "                    content = myCommand()\n",
    "                    server = smtplib.SMTP('smtp.gmail.com', 587)\n",
    "                    server.ehlo()\n",
    "                    server.starttls()\n",
    "                    server.login(\"Your_Username\", 'Your_Password')\n",
    "                    server.sendmail('Your_Username', \"Recipient_Username\", content)\n",
    "                    server.close()\n",
    "                    print(\"Email sent\")\n",
    "                    #speak('Email sent!')\n",
    "                except:\n",
    "                    #speak('Sorry Sir! I am unable to send your message at this moment!')\n",
    "                    print(\"I am sorry Sir \")\n",
    "\n",
    "\n",
    "        elif 'nothing' in query or 'abort' in query or 'stop' in query:\n",
    "            #speak('okay')\n",
    "            #speak('Bye Sir, have a good day.')\n",
    "            print(\"Bye Sir\")\n",
    "            sys.exit()\n",
    "        elif 'hello' in query:\n",
    "            #peak('Hello Sir')\n",
    "            print(\"Hello Sir\")\n",
    "\n",
    "        elif 'bye' in query:\n",
    "            #speak('Bye Sir, have a good day.')\n",
    "            print(\"Have a Good day sir\")\n",
    "            exit()\n",
    "                                    \n",
    "        #elif 'play music' in query:\n",
    "        elif \"open music\" in query or 'play music' in query:\n",
    "            #music_folder = Your_music_folder_path\n",
    "            #music = [music1, music2, music3, music4, music5]\n",
    "            #random_music = music_folder + random.choice(music) + '.mp3'\n",
    "            #os.system(random_music)\n",
    "            print(\"Opening Music In YouTube Music\")\n",
    "            webbrowser.open('https://music.youtube.com/watch?v=z6nfK_zhYNk&list=RDAMVMz6nfK_zhYNk')\n",
    "            #speak('Okay, here is your music! Enjoy!')\n",
    "            \n",
    "        else:\n",
    "            query = query\n",
    "            print('Searching...')\n",
    "            try:\n",
    "                try:\n",
    "                    res = client.query(query)\n",
    "                    results = next(res.results).text\n",
    "                    #speak('WOLFRAM-ALPHA says - ')\n",
    "                    #speak('Got it.')\n",
    "                    #speak(results)\n",
    "                    \n",
    "                except:\n",
    "                    results = wikipedia.summary(query, sentences=2)\n",
    "                    #speak('Got it.')\n",
    "                    #speak('WIKIPEDIA says - ')\n",
    "                    #speak(results)\n",
    "        \n",
    "            except:\n",
    "\n",
    "                webbrowser.open('www.google.com')\n",
    "        \n",
    "        print(\"Need More Help?\")"
   ]
  },
  {
   "cell_type": "code",
   "execution_count": null,
   "metadata": {},
   "outputs": [],
   "source": []
  }
 ],
 "metadata": {
  "kernelspec": {
   "display_name": "Python 3",
   "language": "python",
   "name": "python3"
  },
  "language_info": {
   "codemirror_mode": {
    "name": "ipython",
    "version": 3
   },
   "file_extension": ".py",
   "mimetype": "text/x-python",
   "name": "python",
   "nbconvert_exporter": "python",
   "pygments_lexer": "ipython3",
   "version": "3.7.3"
  }
 },
 "nbformat": 4,
 "nbformat_minor": 2
}
